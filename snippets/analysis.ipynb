{
 "cells": [
  {
   "cell_type": "code",
   "execution_count": 139,
   "metadata": {},
   "outputs": [],
   "source": [
    "import pandas as pd\n",
    "import cv2\n",
    "from pathlib2 import Path\n",
    "from sewar.full_ref import vifp\n",
    "import matplotlib.pyplot as plt\n",
    "import seaborn as sns\n",
    "import numpy as np\n",
    "from typing import List\n",
    "from scipy.interpolate import UnivariateSpline\n",
    "import sys\n",
    "import os\n",
    "sys.path.insert(0, os.path.abspath(\"..\"))\n",
    "\n",
    "from reliabilitycli.src.utils.metric import performance_area\n",
    "from reliabilitycli.src.constants.imagenet_16_class_map import imagenet_16_class_wnid_to_category\n",
    "from reliabilitycli.src.workspace import Workspace\n",
    "from reliabilitycli.datasets.imagenet import ImagenetDatasetInfo\n"
   ]
  },
  {
   "attachments": {},
   "cell_type": "markdown",
   "metadata": {},
   "source": [
    "1. Sample Images\n",
    "2. Evaluate (output csv)\n",
    "3. Analysis"
   ]
  },
  {
   "cell_type": "code",
   "execution_count": 140,
   "metadata": {},
   "outputs": [],
   "source": [
    "sns.set_style(\"whitegrid\")"
   ]
  },
  {
   "cell_type": "code",
   "execution_count": 141,
   "metadata": {},
   "outputs": [],
   "source": [
    "model_name = \"Geirhos2018_SIN\"\n",
    "result_csv = \"results/contrast/Geirhos2018_SIN_corruption.csv\"\n",
    "model_name = \"stdr50\"\n",
    "result_csv = \"results/contrast/standard_r50_corruption.csv\"\n",
    "# model_name = \"Hendrycks2020Many\"\n",
    "# result_csv = \"results/contrast/Hendrycks2020Many_corruption.csv\"\n",
    "\n",
    "# model_name = \"Hendrycks2020AugMix\"\n",
    "# result_csv = \"results/contrast/Hendrycks2020AugMix_corruption.csv\"\n",
    "# model_name = \"torch-resnet50\"\n",
    "# result_csv = \"results/contrast/torch-resnet50.csv\"\n",
    "\n",
    "\n",
    "model_name = \"Hendrycks2020AugMix\"\n",
    "result_csv = \"results/gaussian_noise/Hendrycks2020AugMix.csv\"\n",
    "\n",
    "model_name = \"R50Corrupt\"\n",
    "result_csv = \"results/gaussian_noise/R50Corrupt.csv\"\n",
    "\n",
    "# model_name = \"resnet50\"\n",
    "# result_csv = \"results/gaussian_noise/default_resnet50.csv\""
   ]
  },
  {
   "cell_type": "code",
   "execution_count": 142,
   "metadata": {},
   "outputs": [
    {
     "data": {
      "text/html": [
       "<div>\n",
       "<style scoped>\n",
       "    .dataframe tbody tr th:only-of-type {\n",
       "        vertical-align: middle;\n",
       "    }\n",
       "\n",
       "    .dataframe tbody tr th {\n",
       "        vertical-align: top;\n",
       "    }\n",
       "\n",
       "    .dataframe thead th {\n",
       "        text-align: right;\n",
       "    }\n",
       "</style>\n",
       "<table border=\"1\" class=\"dataframe\">\n",
       "  <thead>\n",
       "    <tr style=\"text-align: right;\">\n",
       "      <th></th>\n",
       "      <th>orig_pred</th>\n",
       "      <th>transformed_pred</th>\n",
       "      <th>label</th>\n",
       "      <th>image_path</th>\n",
       "      <th>transformation_type</th>\n",
       "      <th>transformation_parameter</th>\n",
       "      <th>vd_score</th>\n",
       "    </tr>\n",
       "  </thead>\n",
       "  <tbody>\n",
       "    <tr>\n",
       "      <th>0</th>\n",
       "      <td>216</td>\n",
       "      <td>296</td>\n",
       "      <td>216</td>\n",
       "      <td>/home/user/datasets/ImageNet/val/n02101556/I...</td>\n",
       "      <td>gaussian_noise</td>\n",
       "      <td>716</td>\n",
       "      <td>0.970499</td>\n",
       "    </tr>\n",
       "    <tr>\n",
       "      <th>1</th>\n",
       "      <td>1</td>\n",
       "      <td>904</td>\n",
       "      <td>1</td>\n",
       "      <td>/home/user/datasets/ImageNet/val/n01443537/I...</td>\n",
       "      <td>gaussian_noise</td>\n",
       "      <td>794</td>\n",
       "      <td>0.982044</td>\n",
       "    </tr>\n",
       "    <tr>\n",
       "      <th>2</th>\n",
       "      <td>941</td>\n",
       "      <td>850</td>\n",
       "      <td>941</td>\n",
       "      <td>/home/user/datasets/ImageNet/val/n07717410/I...</td>\n",
       "      <td>gaussian_noise</td>\n",
       "      <td>513</td>\n",
       "      <td>0.962608</td>\n",
       "    </tr>\n",
       "    <tr>\n",
       "      <th>3</th>\n",
       "      <td>707</td>\n",
       "      <td>794</td>\n",
       "      <td>707</td>\n",
       "      <td>/home/user/datasets/ImageNet/val/n03902125/I...</td>\n",
       "      <td>gaussian_noise</td>\n",
       "      <td>652</td>\n",
       "      <td>0.971039</td>\n",
       "    </tr>\n",
       "    <tr>\n",
       "      <th>4</th>\n",
       "      <td>85</td>\n",
       "      <td>904</td>\n",
       "      <td>85</td>\n",
       "      <td>/home/user/datasets/ImageNet/val/n01806567/I...</td>\n",
       "      <td>gaussian_noise</td>\n",
       "      <td>857</td>\n",
       "      <td>0.976478</td>\n",
       "    </tr>\n",
       "    <tr>\n",
       "      <th>...</th>\n",
       "      <td>...</td>\n",
       "      <td>...</td>\n",
       "      <td>...</td>\n",
       "      <td>...</td>\n",
       "      <td>...</td>\n",
       "      <td>...</td>\n",
       "      <td>...</td>\n",
       "    </tr>\n",
       "    <tr>\n",
       "      <th>24995</th>\n",
       "      <td>571</td>\n",
       "      <td>571</td>\n",
       "      <td>571</td>\n",
       "      <td>/home/user/datasets/ImageNet/val/n03425413/I...</td>\n",
       "      <td>gaussian_noise</td>\n",
       "      <td>95</td>\n",
       "      <td>0.783358</td>\n",
       "    </tr>\n",
       "    <tr>\n",
       "      <th>24996</th>\n",
       "      <td>768</td>\n",
       "      <td>904</td>\n",
       "      <td>768</td>\n",
       "      <td>/home/user/datasets/ImageNet/val/n04118538/I...</td>\n",
       "      <td>gaussian_noise</td>\n",
       "      <td>807</td>\n",
       "      <td>0.972427</td>\n",
       "    </tr>\n",
       "    <tr>\n",
       "      <th>24997</th>\n",
       "      <td>676</td>\n",
       "      <td>904</td>\n",
       "      <td>676</td>\n",
       "      <td>/home/user/datasets/ImageNet/val/n03803284/I...</td>\n",
       "      <td>gaussian_noise</td>\n",
       "      <td>922</td>\n",
       "      <td>0.984632</td>\n",
       "    </tr>\n",
       "    <tr>\n",
       "      <th>24998</th>\n",
       "      <td>320</td>\n",
       "      <td>320</td>\n",
       "      <td>320</td>\n",
       "      <td>/home/user/datasets/ImageNet/val/n02268853/I...</td>\n",
       "      <td>gaussian_noise</td>\n",
       "      <td>146</td>\n",
       "      <td>0.829349</td>\n",
       "    </tr>\n",
       "    <tr>\n",
       "      <th>24999</th>\n",
       "      <td>920</td>\n",
       "      <td>904</td>\n",
       "      <td>704</td>\n",
       "      <td>/home/user/datasets/ImageNet/val/n03891332/I...</td>\n",
       "      <td>gaussian_noise</td>\n",
       "      <td>939</td>\n",
       "      <td>0.979875</td>\n",
       "    </tr>\n",
       "  </tbody>\n",
       "</table>\n",
       "<p>25000 rows × 7 columns</p>\n",
       "</div>"
      ],
      "text/plain": [
       "       orig_pred  transformed_pred  label  \\\n",
       "0            216               296    216   \n",
       "1              1               904      1   \n",
       "2            941               850    941   \n",
       "3            707               794    707   \n",
       "4             85               904     85   \n",
       "...          ...               ...    ...   \n",
       "24995        571               571    571   \n",
       "24996        768               904    768   \n",
       "24997        676               904    676   \n",
       "24998        320               320    320   \n",
       "24999        920               904    704   \n",
       "\n",
       "                                              image_path transformation_type  \\\n",
       "0      /home/user/datasets/ImageNet/val/n02101556/I...      gaussian_noise   \n",
       "1      /home/user/datasets/ImageNet/val/n01443537/I...      gaussian_noise   \n",
       "2      /home/user/datasets/ImageNet/val/n07717410/I...      gaussian_noise   \n",
       "3      /home/user/datasets/ImageNet/val/n03902125/I...      gaussian_noise   \n",
       "4      /home/user/datasets/ImageNet/val/n01806567/I...      gaussian_noise   \n",
       "...                                                  ...                 ...   \n",
       "24995  /home/user/datasets/ImageNet/val/n03425413/I...      gaussian_noise   \n",
       "24996  /home/user/datasets/ImageNet/val/n04118538/I...      gaussian_noise   \n",
       "24997  /home/user/datasets/ImageNet/val/n03803284/I...      gaussian_noise   \n",
       "24998  /home/user/datasets/ImageNet/val/n02268853/I...      gaussian_noise   \n",
       "24999  /home/user/datasets/ImageNet/val/n03891332/I...      gaussian_noise   \n",
       "\n",
       "       transformation_parameter  vd_score  \n",
       "0                           716  0.970499  \n",
       "1                           794  0.982044  \n",
       "2                           513  0.962608  \n",
       "3                           652  0.971039  \n",
       "4                           857  0.976478  \n",
       "...                         ...       ...  \n",
       "24995                        95  0.783358  \n",
       "24996                       807  0.972427  \n",
       "24997                       922  0.984632  \n",
       "24998                       146  0.829349  \n",
       "24999                       939  0.979875  \n",
       "\n",
       "[25000 rows x 7 columns]"
      ]
     },
     "execution_count": 142,
     "metadata": {},
     "output_type": "execute_result"
    }
   ],
   "source": [
    "df = pd.read_csv(Path('../workspace') / result_csv, index_col=0)\n",
    "df"
   ]
  },
  {
   "cell_type": "code",
   "execution_count": 143,
   "metadata": {},
   "outputs": [],
   "source": [
    "bins_dfs = []\n",
    "for i in range(100):\n",
    "\tbins_dfs.append(df[(df['vd_score'] > i / 100) & (df['vd_score'] < ((i + 1) / 100))])"
   ]
  },
  {
   "cell_type": "code",
   "execution_count": 144,
   "metadata": {},
   "outputs": [],
   "source": [
    "def calculate_acc(df: pd.DataFrame):\n",
    "\treturn (df['transformed_pred'] == df['label']).sum() / len(df)\n",
    "\n",
    "def calculate_orig_acc(df: pd.DataFrame):\n",
    "\treturn (df['orig_pred'] == df['label']).sum() / len(df)"
   ]
  },
  {
   "cell_type": "code",
   "execution_count": 145,
   "metadata": {},
   "outputs": [
    {
     "name": "stderr",
     "output_type": "stream",
     "text": [
      "/home/user/anaconda3/envs/reliabilitycli/lib/python3.7/site-packages/ipykernel_launcher.py:5: RuntimeWarning: invalid value encountered in long_scalars\n",
      "  \"\"\"\n"
     ]
    }
   ],
   "source": [
    "orig_accs = [calculate_orig_acc(bin_df) for bin_df in bins_dfs]"
   ]
  },
  {
   "cell_type": "code",
   "execution_count": 146,
   "metadata": {},
   "outputs": [
    {
     "name": "stderr",
     "output_type": "stream",
     "text": [
      "/home/user/anaconda3/envs/reliabilitycli/lib/python3.7/site-packages/ipykernel_launcher.py:2: RuntimeWarning: invalid value encountered in long_scalars\n",
      "  \n"
     ]
    }
   ],
   "source": [
    "accs = [calculate_acc(bin_df) for bin_df in bins_dfs]"
   ]
  },
  {
   "cell_type": "code",
   "execution_count": 147,
   "metadata": {},
   "outputs": [
    {
     "data": {
      "text/plain": [
       "Text(0.4, 0.2, '0.65')"
      ]
     },
     "execution_count": 147,
     "metadata": {},
     "output_type": "execute_result"
    },
    {
     "data": {
      "image/png": "[encoded data removed]",
      "text/plain": [
       "<Figure size 432x288 with 1 Axes>"
      ]
     },
     "metadata": {},
     "output_type": "display_data"
    }
   ],
   "source": [
    "ax = sns.lineplot(x=np.arange(100) / 100, y=accs)\n",
    "ax.set_xlabel('visual change')\n",
    "ax.set_ylabel('accuracy')\n",
    "ax.set_title(model_name)\n",
    "# ax.set_xlim(100)\n",
    "ax.set_ylim(0, 1)\n",
    "perf_area = performance_area(accs)\n",
    "ax.text(0.4, 0.2, round(perf_area, 2), fontsize=26)\n",
    "# plt.text(20, 50, '$A_m - A_{m-h}$', fontsize=16)\n"
   ]
  },
  {
   "cell_type": "code",
   "execution_count": 148,
   "metadata": {},
   "outputs": [
    {
     "name": "stdout",
     "output_type": "stream",
     "text": [
      "transform vs original 5582\n",
      "accuracy 4900\n",
      "original acc 18793\n"
     ]
    }
   ],
   "source": [
    "print('transform vs original', (df['transformed_pred'] == df['orig_pred']).sum())\n",
    "print('accuracy', (df['transformed_pred'] == df['label']).sum())\n",
    "print('original acc', (df['label'] == df['orig_pred']).sum())"
   ]
  },
  {
   "cell_type": "code",
   "execution_count": 149,
   "metadata": {},
   "outputs": [
    {
     "data": {
      "text/plain": [
       "23818"
      ]
     },
     "execution_count": 149,
     "metadata": {},
     "output_type": "execute_result"
    }
   ],
   "source": [
    "((df['transformed_pred'] == df['label']) == (df['transformed_pred'] == df['orig_pred'])).sum()"
   ]
  },
  {
   "attachments": {},
   "cell_type": "markdown",
   "metadata": {},
   "source": [
    "# 16 Class Version"
   ]
  },
  {
   "cell_type": "code",
   "execution_count": 150,
   "metadata": {},
   "outputs": [],
   "source": [
    "# imagenet_16_class_category_to_id, imagenet_16_class_map_id_to_category\n",
    "# imagenet_16_class_map_id_to_category\n",
    "dataset_root = Path(\"/home/user/datasets\")\n",
    "imagenet_info = ImagenetDatasetInfo(data_root=dataset_root / 'ImageNet' / 'val',\n",
    "                    original_data_root=dataset_root / 'ImageNet',\n",
    "                    original_split='val')"
   ]
  },
  {
   "cell_type": "code",
   "execution_count": 151,
   "metadata": {},
   "outputs": [],
   "source": [
    "idx_to_wnid = {idx: wnid for wnid, idx in imagenet_info.wnid_to_idx.items()}"
   ]
  },
  {
   "cell_type": "code",
   "execution_count": 152,
   "metadata": {},
   "outputs": [
    {
     "data": {
      "text/plain": [
       "{8: 'bird',\n",
       " 10: 'bird',\n",
       " 11: 'bird',\n",
       " 12: 'bird',\n",
       " 13: 'bird',\n",
       " 14: 'bird',\n",
       " 15: 'bird',\n",
       " 16: 'bird',\n",
       " 18: 'bird',\n",
       " 19: 'bird',\n",
       " 20: 'bird',\n",
       " 22: 'bird',\n",
       " 23: 'bird',\n",
       " 24: 'bird',\n",
       " 80: 'bird',\n",
       " 81: 'bird',\n",
       " 82: 'bird',\n",
       " 83: 'bird',\n",
       " 87: 'bird',\n",
       " 88: 'bird',\n",
       " 89: 'bird',\n",
       " 90: 'bird',\n",
       " 91: 'bird',\n",
       " 92: 'bird',\n",
       " 93: 'bird',\n",
       " 94: 'bird',\n",
       " 95: 'bird',\n",
       " 96: 'bird',\n",
       " 98: 'bird',\n",
       " 99: 'bird',\n",
       " 100: 'bird',\n",
       " 127: 'bird',\n",
       " 128: 'bird',\n",
       " 129: 'bird',\n",
       " 130: 'bird',\n",
       " 131: 'bird',\n",
       " 132: 'bird',\n",
       " 133: 'bird',\n",
       " 135: 'bird',\n",
       " 136: 'bird',\n",
       " 137: 'bird',\n",
       " 138: 'bird',\n",
       " 139: 'bird',\n",
       " 140: 'bird',\n",
       " 141: 'bird',\n",
       " 142: 'bird',\n",
       " 143: 'bird',\n",
       " 144: 'bird',\n",
       " 145: 'bird',\n",
       " 152: 'dog',\n",
       " 153: 'dog',\n",
       " 154: 'dog',\n",
       " 155: 'dog',\n",
       " 156: 'dog',\n",
       " 157: 'dog',\n",
       " 158: 'dog',\n",
       " 159: 'dog',\n",
       " 160: 'dog',\n",
       " 161: 'dog',\n",
       " 162: 'dog',\n",
       " 163: 'dog',\n",
       " 164: 'dog',\n",
       " 165: 'dog',\n",
       " 166: 'dog',\n",
       " 167: 'dog',\n",
       " 168: 'dog',\n",
       " 169: 'dog',\n",
       " 170: 'dog',\n",
       " 171: 'dog',\n",
       " 172: 'dog',\n",
       " 173: 'dog',\n",
       " 174: 'dog',\n",
       " 175: 'dog',\n",
       " 176: 'dog',\n",
       " 177: 'dog',\n",
       " 178: 'dog',\n",
       " 179: 'dog',\n",
       " 180: 'dog',\n",
       " 181: 'dog',\n",
       " 182: 'dog',\n",
       " 183: 'dog',\n",
       " 184: 'dog',\n",
       " 185: 'dog',\n",
       " 186: 'dog',\n",
       " 187: 'dog',\n",
       " 188: 'dog',\n",
       " 189: 'dog',\n",
       " 190: 'dog',\n",
       " 191: 'dog',\n",
       " 193: 'dog',\n",
       " 194: 'dog',\n",
       " 195: 'dog',\n",
       " 196: 'dog',\n",
       " 197: 'dog',\n",
       " 198: 'dog',\n",
       " 199: 'dog',\n",
       " 200: 'dog',\n",
       " 201: 'dog',\n",
       " 202: 'dog',\n",
       " 203: 'dog',\n",
       " 205: 'dog',\n",
       " 206: 'dog',\n",
       " 207: 'dog',\n",
       " 208: 'dog',\n",
       " 209: 'dog',\n",
       " 210: 'dog',\n",
       " 211: 'dog',\n",
       " 212: 'dog',\n",
       " 213: 'dog',\n",
       " 214: 'dog',\n",
       " 215: 'dog',\n",
       " 216: 'dog',\n",
       " 217: 'dog',\n",
       " 218: 'dog',\n",
       " 219: 'dog',\n",
       " 220: 'dog',\n",
       " 221: 'dog',\n",
       " 222: 'dog',\n",
       " 223: 'dog',\n",
       " 224: 'dog',\n",
       " 225: 'dog',\n",
       " 226: 'dog',\n",
       " 228: 'dog',\n",
       " 229: 'dog',\n",
       " 230: 'dog',\n",
       " 231: 'dog',\n",
       " 232: 'dog',\n",
       " 233: 'dog',\n",
       " 234: 'dog',\n",
       " 235: 'dog',\n",
       " 236: 'dog',\n",
       " 237: 'dog',\n",
       " 238: 'dog',\n",
       " 239: 'dog',\n",
       " 240: 'dog',\n",
       " 241: 'dog',\n",
       " 243: 'dog',\n",
       " 244: 'dog',\n",
       " 245: 'dog',\n",
       " 246: 'dog',\n",
       " 247: 'dog',\n",
       " 248: 'dog',\n",
       " 249: 'dog',\n",
       " 250: 'dog',\n",
       " 252: 'dog',\n",
       " 253: 'dog',\n",
       " 254: 'dog',\n",
       " 255: 'dog',\n",
       " 256: 'dog',\n",
       " 257: 'dog',\n",
       " 259: 'dog',\n",
       " 261: 'dog',\n",
       " 262: 'dog',\n",
       " 263: 'dog',\n",
       " 265: 'dog',\n",
       " 266: 'dog',\n",
       " 267: 'dog',\n",
       " 268: 'dog',\n",
       " 281: 'cat',\n",
       " 282: 'cat',\n",
       " 283: 'cat',\n",
       " 284: 'cat',\n",
       " 285: 'cat',\n",
       " 286: 'cat',\n",
       " 294: 'bear',\n",
       " 295: 'bear',\n",
       " 296: 'bear',\n",
       " 297: 'bear',\n",
       " 385: 'elephant',\n",
       " 386: 'elephant',\n",
       " 404: 'airplane',\n",
       " 409: 'clock',\n",
       " 423: 'chair',\n",
       " 436: 'car',\n",
       " 440: 'bottle',\n",
       " 444: 'bicycle',\n",
       " 472: 'boat',\n",
       " 499: 'knife',\n",
       " 508: 'keyboard',\n",
       " 511: 'car',\n",
       " 530: 'clock',\n",
       " 554: 'boat',\n",
       " 555: 'truck',\n",
       " 559: 'chair',\n",
       " 569: 'truck',\n",
       " 625: 'boat',\n",
       " 656: 'truck',\n",
       " 671: 'bicycle',\n",
       " 675: 'truck',\n",
       " 717: 'truck',\n",
       " 720: 'bottle',\n",
       " 734: 'truck',\n",
       " 737: 'bottle',\n",
       " 765: 'chair',\n",
       " 766: 'oven',\n",
       " 814: 'boat',\n",
       " 817: 'car',\n",
       " 857: 'chair',\n",
       " 864: 'truck',\n",
       " 867: 'truck',\n",
       " 878: 'keyboard',\n",
       " 892: 'clock',\n",
       " 898: 'bottle',\n",
       " 899: 'bottle',\n",
       " 901: 'bottle',\n",
       " 907: 'bottle',\n",
       " 914: 'boat'}"
      ]
     },
     "execution_count": 152,
     "metadata": {},
     "output_type": "execute_result"
    }
   ],
   "source": [
    "imagenet_16_class_wnid_to_category\n",
    "idx_to_wnid\n",
    "# map wnid to idx, then idx to 16-class category\n",
    "idx_to_categroy = {idx: imagenet_16_class_wnid_to_category[wnid] for idx, wnid in idx_to_wnid.items() if wnid in imagenet_16_class_wnid_to_category.keys()}\n",
    "idx_to_categroy"
   ]
  },
  {
   "cell_type": "code",
   "execution_count": 153,
   "metadata": {},
   "outputs": [
    {
     "data": {
      "text/html": [
       "<div>\n",
       "<style scoped>\n",
       "    .dataframe tbody tr th:only-of-type {\n",
       "        vertical-align: middle;\n",
       "    }\n",
       "\n",
       "    .dataframe tbody tr th {\n",
       "        vertical-align: top;\n",
       "    }\n",
       "\n",
       "    .dataframe thead th {\n",
       "        text-align: right;\n",
       "    }\n",
       "</style>\n",
       "<table border=\"1\" class=\"dataframe\">\n",
       "  <thead>\n",
       "    <tr style=\"text-align: right;\">\n",
       "      <th></th>\n",
       "      <th>idx</th>\n",
       "      <th>label_category</th>\n",
       "    </tr>\n",
       "  </thead>\n",
       "  <tbody>\n",
       "    <tr>\n",
       "      <th>0</th>\n",
       "      <td>8</td>\n",
       "      <td>bird</td>\n",
       "    </tr>\n",
       "    <tr>\n",
       "      <th>1</th>\n",
       "      <td>10</td>\n",
       "      <td>bird</td>\n",
       "    </tr>\n",
       "    <tr>\n",
       "      <th>2</th>\n",
       "      <td>11</td>\n",
       "      <td>bird</td>\n",
       "    </tr>\n",
       "    <tr>\n",
       "      <th>3</th>\n",
       "      <td>12</td>\n",
       "      <td>bird</td>\n",
       "    </tr>\n",
       "    <tr>\n",
       "      <th>4</th>\n",
       "      <td>13</td>\n",
       "      <td>bird</td>\n",
       "    </tr>\n",
       "    <tr>\n",
       "      <th>...</th>\n",
       "      <td>...</td>\n",
       "      <td>...</td>\n",
       "    </tr>\n",
       "    <tr>\n",
       "      <th>202</th>\n",
       "      <td>898</td>\n",
       "      <td>bottle</td>\n",
       "    </tr>\n",
       "    <tr>\n",
       "      <th>203</th>\n",
       "      <td>899</td>\n",
       "      <td>bottle</td>\n",
       "    </tr>\n",
       "    <tr>\n",
       "      <th>204</th>\n",
       "      <td>901</td>\n",
       "      <td>bottle</td>\n",
       "    </tr>\n",
       "    <tr>\n",
       "      <th>205</th>\n",
       "      <td>907</td>\n",
       "      <td>bottle</td>\n",
       "    </tr>\n",
       "    <tr>\n",
       "      <th>206</th>\n",
       "      <td>914</td>\n",
       "      <td>boat</td>\n",
       "    </tr>\n",
       "  </tbody>\n",
       "</table>\n",
       "<p>207 rows × 2 columns</p>\n",
       "</div>"
      ],
      "text/plain": [
       "     idx label_category\n",
       "0      8           bird\n",
       "1     10           bird\n",
       "2     11           bird\n",
       "3     12           bird\n",
       "4     13           bird\n",
       "..   ...            ...\n",
       "202  898         bottle\n",
       "203  899         bottle\n",
       "204  901         bottle\n",
       "205  907         bottle\n",
       "206  914           boat\n",
       "\n",
       "[207 rows x 2 columns]"
      ]
     },
     "execution_count": 153,
     "metadata": {},
     "output_type": "execute_result"
    }
   ],
   "source": [
    "imagenet_16_class_df = pd.DataFrame(data={\"idx\": idx_to_categroy.keys(), \"label_category\": idx_to_categroy.values()})\n",
    "imagenet_16_class_df"
   ]
  },
  {
   "cell_type": "code",
   "execution_count": 154,
   "metadata": {},
   "outputs": [
    {
     "data": {
      "text/html": [
       "<div>\n",
       "<style scoped>\n",
       "    .dataframe tbody tr th:only-of-type {\n",
       "        vertical-align: middle;\n",
       "    }\n",
       "\n",
       "    .dataframe tbody tr th {\n",
       "        vertical-align: top;\n",
       "    }\n",
       "\n",
       "    .dataframe thead th {\n",
       "        text-align: right;\n",
       "    }\n",
       "</style>\n",
       "<table border=\"1\" class=\"dataframe\">\n",
       "  <thead>\n",
       "    <tr style=\"text-align: right;\">\n",
       "      <th></th>\n",
       "      <th>orig_pred</th>\n",
       "      <th>transformed_pred</th>\n",
       "      <th>label</th>\n",
       "      <th>image_path</th>\n",
       "      <th>transformation_type</th>\n",
       "      <th>transformation_parameter</th>\n",
       "      <th>vd_score</th>\n",
       "      <th>idx</th>\n",
       "      <th>label_category</th>\n",
       "    </tr>\n",
       "  </thead>\n",
       "  <tbody>\n",
       "    <tr>\n",
       "      <th>0</th>\n",
       "      <td>8</td>\n",
       "      <td>608</td>\n",
       "      <td>8</td>\n",
       "      <td>/home/user/datasets/ImageNet/val/n01514859/I...</td>\n",
       "      <td>gaussian_noise</td>\n",
       "      <td>674</td>\n",
       "      <td>0.974052</td>\n",
       "      <td>8</td>\n",
       "      <td>bird</td>\n",
       "    </tr>\n",
       "    <tr>\n",
       "      <th>1</th>\n",
       "      <td>7</td>\n",
       "      <td>904</td>\n",
       "      <td>8</td>\n",
       "      <td>/home/user/datasets/ImageNet/val/n01514859/I...</td>\n",
       "      <td>gaussian_noise</td>\n",
       "      <td>949</td>\n",
       "      <td>0.983817</td>\n",
       "      <td>8</td>\n",
       "      <td>bird</td>\n",
       "    </tr>\n",
       "    <tr>\n",
       "      <th>2</th>\n",
       "      <td>8</td>\n",
       "      <td>904</td>\n",
       "      <td>8</td>\n",
       "      <td>/home/user/datasets/ImageNet/val/n01514859/I...</td>\n",
       "      <td>gaussian_noise</td>\n",
       "      <td>570</td>\n",
       "      <td>0.977297</td>\n",
       "      <td>8</td>\n",
       "      <td>bird</td>\n",
       "    </tr>\n",
       "    <tr>\n",
       "      <th>3</th>\n",
       "      <td>8</td>\n",
       "      <td>332</td>\n",
       "      <td>8</td>\n",
       "      <td>/home/user/datasets/ImageNet/val/n01514859/I...</td>\n",
       "      <td>gaussian_noise</td>\n",
       "      <td>271</td>\n",
       "      <td>0.942894</td>\n",
       "      <td>8</td>\n",
       "      <td>bird</td>\n",
       "    </tr>\n",
       "    <tr>\n",
       "      <th>4</th>\n",
       "      <td>594</td>\n",
       "      <td>505</td>\n",
       "      <td>8</td>\n",
       "      <td>/home/user/datasets/ImageNet/val/n01514859/I...</td>\n",
       "      <td>gaussian_noise</td>\n",
       "      <td>682</td>\n",
       "      <td>0.963679</td>\n",
       "      <td>8</td>\n",
       "      <td>bird</td>\n",
       "    </tr>\n",
       "    <tr>\n",
       "      <th>...</th>\n",
       "      <td>...</td>\n",
       "      <td>...</td>\n",
       "      <td>...</td>\n",
       "      <td>...</td>\n",
       "      <td>...</td>\n",
       "      <td>...</td>\n",
       "      <td>...</td>\n",
       "      <td>...</td>\n",
       "      <td>...</td>\n",
       "    </tr>\n",
       "    <tr>\n",
       "      <th>5149</th>\n",
       "      <td>780</td>\n",
       "      <td>536</td>\n",
       "      <td>914</td>\n",
       "      <td>/home/user/datasets/ImageNet/val/n04612504/I...</td>\n",
       "      <td>gaussian_noise</td>\n",
       "      <td>108</td>\n",
       "      <td>0.800451</td>\n",
       "      <td>914</td>\n",
       "      <td>boat</td>\n",
       "    </tr>\n",
       "    <tr>\n",
       "      <th>5150</th>\n",
       "      <td>914</td>\n",
       "      <td>904</td>\n",
       "      <td>914</td>\n",
       "      <td>/home/user/datasets/ImageNet/val/n04612504/I...</td>\n",
       "      <td>gaussian_noise</td>\n",
       "      <td>935</td>\n",
       "      <td>0.984353</td>\n",
       "      <td>914</td>\n",
       "      <td>boat</td>\n",
       "    </tr>\n",
       "    <tr>\n",
       "      <th>5151</th>\n",
       "      <td>914</td>\n",
       "      <td>904</td>\n",
       "      <td>914</td>\n",
       "      <td>/home/user/datasets/ImageNet/val/n04612504/I...</td>\n",
       "      <td>gaussian_noise</td>\n",
       "      <td>927</td>\n",
       "      <td>0.988326</td>\n",
       "      <td>914</td>\n",
       "      <td>boat</td>\n",
       "    </tr>\n",
       "    <tr>\n",
       "      <th>5152</th>\n",
       "      <td>914</td>\n",
       "      <td>562</td>\n",
       "      <td>914</td>\n",
       "      <td>/home/user/datasets/ImageNet/val/n04612504/I...</td>\n",
       "      <td>gaussian_noise</td>\n",
       "      <td>619</td>\n",
       "      <td>0.974464</td>\n",
       "      <td>914</td>\n",
       "      <td>boat</td>\n",
       "    </tr>\n",
       "    <tr>\n",
       "      <th>5153</th>\n",
       "      <td>871</td>\n",
       "      <td>871</td>\n",
       "      <td>914</td>\n",
       "      <td>/home/user/datasets/ImageNet/val/n04612504/I...</td>\n",
       "      <td>gaussian_noise</td>\n",
       "      <td>54</td>\n",
       "      <td>0.686660</td>\n",
       "      <td>914</td>\n",
       "      <td>boat</td>\n",
       "    </tr>\n",
       "  </tbody>\n",
       "</table>\n",
       "<p>5154 rows × 9 columns</p>\n",
       "</div>"
      ],
      "text/plain": [
       "      orig_pred  transformed_pred  label  \\\n",
       "0             8               608      8   \n",
       "1             7               904      8   \n",
       "2             8               904      8   \n",
       "3             8               332      8   \n",
       "4           594               505      8   \n",
       "...         ...               ...    ...   \n",
       "5149        780               536    914   \n",
       "5150        914               904    914   \n",
       "5151        914               904    914   \n",
       "5152        914               562    914   \n",
       "5153        871               871    914   \n",
       "\n",
       "                                             image_path transformation_type  \\\n",
       "0     /home/user/datasets/ImageNet/val/n01514859/I...      gaussian_noise   \n",
       "1     /home/user/datasets/ImageNet/val/n01514859/I...      gaussian_noise   \n",
       "2     /home/user/datasets/ImageNet/val/n01514859/I...      gaussian_noise   \n",
       "3     /home/user/datasets/ImageNet/val/n01514859/I...      gaussian_noise   \n",
       "4     /home/user/datasets/ImageNet/val/n01514859/I...      gaussian_noise   \n",
       "...                                                 ...                 ...   \n",
       "5149  /home/user/datasets/ImageNet/val/n04612504/I...      gaussian_noise   \n",
       "5150  /home/user/datasets/ImageNet/val/n04612504/I...      gaussian_noise   \n",
       "5151  /home/user/datasets/ImageNet/val/n04612504/I...      gaussian_noise   \n",
       "5152  /home/user/datasets/ImageNet/val/n04612504/I...      gaussian_noise   \n",
       "5153  /home/user/datasets/ImageNet/val/n04612504/I...      gaussian_noise   \n",
       "\n",
       "      transformation_parameter  vd_score  idx label_category  \n",
       "0                          674  0.974052    8           bird  \n",
       "1                          949  0.983817    8           bird  \n",
       "2                          570  0.977297    8           bird  \n",
       "3                          271  0.942894    8           bird  \n",
       "4                          682  0.963679    8           bird  \n",
       "...                        ...       ...  ...            ...  \n",
       "5149                       108  0.800451  914           boat  \n",
       "5150                       935  0.984353  914           boat  \n",
       "5151                       927  0.988326  914           boat  \n",
       "5152                       619  0.974464  914           boat  \n",
       "5153                        54  0.686660  914           boat  \n",
       "\n",
       "[5154 rows x 9 columns]"
      ]
     },
     "execution_count": 154,
     "metadata": {},
     "output_type": "execute_result"
    }
   ],
   "source": [
    "new_result_df = df.merge(imagenet_16_class_df, left_on='label', right_on='idx', how='right')\n",
    "new_result_df"
   ]
  },
  {
   "cell_type": "code",
   "execution_count": 155,
   "metadata": {},
   "outputs": [
    {
     "data": {
      "text/html": [
       "<div>\n",
       "<style scoped>\n",
       "    .dataframe tbody tr th:only-of-type {\n",
       "        vertical-align: middle;\n",
       "    }\n",
       "\n",
       "    .dataframe tbody tr th {\n",
       "        vertical-align: top;\n",
       "    }\n",
       "\n",
       "    .dataframe thead th {\n",
       "        text-align: right;\n",
       "    }\n",
       "</style>\n",
       "<table border=\"1\" class=\"dataframe\">\n",
       "  <thead>\n",
       "    <tr style=\"text-align: right;\">\n",
       "      <th></th>\n",
       "      <th>orig_pred</th>\n",
       "      <th>transformed_pred</th>\n",
       "      <th>label</th>\n",
       "      <th>image_path</th>\n",
       "      <th>transformation_type</th>\n",
       "      <th>transformation_parameter</th>\n",
       "      <th>vd_score</th>\n",
       "      <th>idx</th>\n",
       "      <th>label_category</th>\n",
       "      <th>orig_pred_category</th>\n",
       "      <th>transformed_pred_category</th>\n",
       "    </tr>\n",
       "  </thead>\n",
       "  <tbody>\n",
       "    <tr>\n",
       "      <th>0</th>\n",
       "      <td>8</td>\n",
       "      <td>608</td>\n",
       "      <td>8</td>\n",
       "      <td>/home/user/datasets/ImageNet/val/n01514859/I...</td>\n",
       "      <td>gaussian_noise</td>\n",
       "      <td>674</td>\n",
       "      <td>0.974052</td>\n",
       "      <td>8</td>\n",
       "      <td>bird</td>\n",
       "      <td>bird</td>\n",
       "      <td>None</td>\n",
       "    </tr>\n",
       "    <tr>\n",
       "      <th>1</th>\n",
       "      <td>7</td>\n",
       "      <td>904</td>\n",
       "      <td>8</td>\n",
       "      <td>/home/user/datasets/ImageNet/val/n01514859/I...</td>\n",
       "      <td>gaussian_noise</td>\n",
       "      <td>949</td>\n",
       "      <td>0.983817</td>\n",
       "      <td>8</td>\n",
       "      <td>bird</td>\n",
       "      <td>None</td>\n",
       "      <td>None</td>\n",
       "    </tr>\n",
       "    <tr>\n",
       "      <th>2</th>\n",
       "      <td>8</td>\n",
       "      <td>904</td>\n",
       "      <td>8</td>\n",
       "      <td>/home/user/datasets/ImageNet/val/n01514859/I...</td>\n",
       "      <td>gaussian_noise</td>\n",
       "      <td>570</td>\n",
       "      <td>0.977297</td>\n",
       "      <td>8</td>\n",
       "      <td>bird</td>\n",
       "      <td>bird</td>\n",
       "      <td>None</td>\n",
       "    </tr>\n",
       "    <tr>\n",
       "      <th>3</th>\n",
       "      <td>8</td>\n",
       "      <td>332</td>\n",
       "      <td>8</td>\n",
       "      <td>/home/user/datasets/ImageNet/val/n01514859/I...</td>\n",
       "      <td>gaussian_noise</td>\n",
       "      <td>271</td>\n",
       "      <td>0.942894</td>\n",
       "      <td>8</td>\n",
       "      <td>bird</td>\n",
       "      <td>bird</td>\n",
       "      <td>None</td>\n",
       "    </tr>\n",
       "    <tr>\n",
       "      <th>4</th>\n",
       "      <td>594</td>\n",
       "      <td>505</td>\n",
       "      <td>8</td>\n",
       "      <td>/home/user/datasets/ImageNet/val/n01514859/I...</td>\n",
       "      <td>gaussian_noise</td>\n",
       "      <td>682</td>\n",
       "      <td>0.963679</td>\n",
       "      <td>8</td>\n",
       "      <td>bird</td>\n",
       "      <td>None</td>\n",
       "      <td>None</td>\n",
       "    </tr>\n",
       "    <tr>\n",
       "      <th>...</th>\n",
       "      <td>...</td>\n",
       "      <td>...</td>\n",
       "      <td>...</td>\n",
       "      <td>...</td>\n",
       "      <td>...</td>\n",
       "      <td>...</td>\n",
       "      <td>...</td>\n",
       "      <td>...</td>\n",
       "      <td>...</td>\n",
       "      <td>...</td>\n",
       "      <td>...</td>\n",
       "    </tr>\n",
       "    <tr>\n",
       "      <th>5149</th>\n",
       "      <td>780</td>\n",
       "      <td>536</td>\n",
       "      <td>914</td>\n",
       "      <td>/home/user/datasets/ImageNet/val/n04612504/I...</td>\n",
       "      <td>gaussian_noise</td>\n",
       "      <td>108</td>\n",
       "      <td>0.800451</td>\n",
       "      <td>914</td>\n",
       "      <td>boat</td>\n",
       "      <td>None</td>\n",
       "      <td>None</td>\n",
       "    </tr>\n",
       "    <tr>\n",
       "      <th>5150</th>\n",
       "      <td>914</td>\n",
       "      <td>904</td>\n",
       "      <td>914</td>\n",
       "      <td>/home/user/datasets/ImageNet/val/n04612504/I...</td>\n",
       "      <td>gaussian_noise</td>\n",
       "      <td>935</td>\n",
       "      <td>0.984353</td>\n",
       "      <td>914</td>\n",
       "      <td>boat</td>\n",
       "      <td>boat</td>\n",
       "      <td>None</td>\n",
       "    </tr>\n",
       "    <tr>\n",
       "      <th>5151</th>\n",
       "      <td>914</td>\n",
       "      <td>904</td>\n",
       "      <td>914</td>\n",
       "      <td>/home/user/datasets/ImageNet/val/n04612504/I...</td>\n",
       "      <td>gaussian_noise</td>\n",
       "      <td>927</td>\n",
       "      <td>0.988326</td>\n",
       "      <td>914</td>\n",
       "      <td>boat</td>\n",
       "      <td>boat</td>\n",
       "      <td>None</td>\n",
       "    </tr>\n",
       "    <tr>\n",
       "      <th>5152</th>\n",
       "      <td>914</td>\n",
       "      <td>562</td>\n",
       "      <td>914</td>\n",
       "      <td>/home/user/datasets/ImageNet/val/n04612504/I...</td>\n",
       "      <td>gaussian_noise</td>\n",
       "      <td>619</td>\n",
       "      <td>0.974464</td>\n",
       "      <td>914</td>\n",
       "      <td>boat</td>\n",
       "      <td>boat</td>\n",
       "      <td>None</td>\n",
       "    </tr>\n",
       "    <tr>\n",
       "      <th>5153</th>\n",
       "      <td>871</td>\n",
       "      <td>871</td>\n",
       "      <td>914</td>\n",
       "      <td>/home/user/datasets/ImageNet/val/n04612504/I...</td>\n",
       "      <td>gaussian_noise</td>\n",
       "      <td>54</td>\n",
       "      <td>0.686660</td>\n",
       "      <td>914</td>\n",
       "      <td>boat</td>\n",
       "      <td>None</td>\n",
       "      <td>None</td>\n",
       "    </tr>\n",
       "  </tbody>\n",
       "</table>\n",
       "<p>5154 rows × 11 columns</p>\n",
       "</div>"
      ],
      "text/plain": [
       "      orig_pred  transformed_pred  label  \\\n",
       "0             8               608      8   \n",
       "1             7               904      8   \n",
       "2             8               904      8   \n",
       "3             8               332      8   \n",
       "4           594               505      8   \n",
       "...         ...               ...    ...   \n",
       "5149        780               536    914   \n",
       "5150        914               904    914   \n",
       "5151        914               904    914   \n",
       "5152        914               562    914   \n",
       "5153        871               871    914   \n",
       "\n",
       "                                             image_path transformation_type  \\\n",
       "0     /home/user/datasets/ImageNet/val/n01514859/I...      gaussian_noise   \n",
       "1     /home/user/datasets/ImageNet/val/n01514859/I...      gaussian_noise   \n",
       "2     /home/user/datasets/ImageNet/val/n01514859/I...      gaussian_noise   \n",
       "3     /home/user/datasets/ImageNet/val/n01514859/I...      gaussian_noise   \n",
       "4     /home/user/datasets/ImageNet/val/n01514859/I...      gaussian_noise   \n",
       "...                                                 ...                 ...   \n",
       "5149  /home/user/datasets/ImageNet/val/n04612504/I...      gaussian_noise   \n",
       "5150  /home/user/datasets/ImageNet/val/n04612504/I...      gaussian_noise   \n",
       "5151  /home/user/datasets/ImageNet/val/n04612504/I...      gaussian_noise   \n",
       "5152  /home/user/datasets/ImageNet/val/n04612504/I...      gaussian_noise   \n",
       "5153  /home/user/datasets/ImageNet/val/n04612504/I...      gaussian_noise   \n",
       "\n",
       "      transformation_parameter  vd_score  idx label_category  \\\n",
       "0                          674  0.974052    8           bird   \n",
       "1                          949  0.983817    8           bird   \n",
       "2                          570  0.977297    8           bird   \n",
       "3                          271  0.942894    8           bird   \n",
       "4                          682  0.963679    8           bird   \n",
       "...                        ...       ...  ...            ...   \n",
       "5149                       108  0.800451  914           boat   \n",
       "5150                       935  0.984353  914           boat   \n",
       "5151                       927  0.988326  914           boat   \n",
       "5152                       619  0.974464  914           boat   \n",
       "5153                        54  0.686660  914           boat   \n",
       "\n",
       "     orig_pred_category transformed_pred_category  \n",
       "0                  bird                      None  \n",
       "1                  None                      None  \n",
       "2                  bird                      None  \n",
       "3                  bird                      None  \n",
       "4                  None                      None  \n",
       "...                 ...                       ...  \n",
       "5149               None                      None  \n",
       "5150               boat                      None  \n",
       "5151               boat                      None  \n",
       "5152               boat                      None  \n",
       "5153               None                      None  \n",
       "\n",
       "[5154 rows x 11 columns]"
      ]
     },
     "execution_count": 155,
     "metadata": {},
     "output_type": "execute_result"
    }
   ],
   "source": [
    "new_result_df['orig_pred_category'] = new_result_df.apply(lambda row: idx_to_categroy[row['orig_pred']] if row['orig_pred'] in idx_to_categroy else None, axis=1)\n",
    "new_result_df['transformed_pred_category'] = new_result_df.apply(lambda row: idx_to_categroy[row['transformed_pred']] if row['transformed_pred'] in idx_to_categroy else None, axis=1)\n",
    "new_result_df"
   ]
  },
  {
   "cell_type": "code",
   "execution_count": 156,
   "metadata": {},
   "outputs": [
    {
     "data": {
      "text/plain": [
       "4837"
      ]
     },
     "execution_count": 156,
     "metadata": {},
     "output_type": "execute_result"
    }
   ],
   "source": [
    "# experiments\n",
    "(new_result_df['label_category'] == new_result_df['orig_pred_category']).sum()"
   ]
  },
  {
   "cell_type": "code",
   "execution_count": 157,
   "metadata": {},
   "outputs": [],
   "source": [
    "def calculate_category_acc(df: pd.DataFrame):\n",
    "\treturn (df['transformed_pred_category'] == df['label_category']).sum() / len(df)\n",
    "\n",
    "def calculate_orig_category_acc(df: pd.DataFrame):\n",
    "\treturn (df['orig_pred_category'] == df['label_category']).sum() / len(df)"
   ]
  },
  {
   "cell_type": "code",
   "execution_count": 158,
   "metadata": {},
   "outputs": [
    {
     "name": "stderr",
     "output_type": "stream",
     "text": [
      "/home/user/anaconda3/envs/reliabilitycli/lib/python3.7/site-packages/ipykernel_launcher.py:5: RuntimeWarning: invalid value encountered in long_scalars\n",
      "  \"\"\"\n",
      "/home/user/anaconda3/envs/reliabilitycli/lib/python3.7/site-packages/ipykernel_launcher.py:2: RuntimeWarning: invalid value encountered in long_scalars\n",
      "  \n"
     ]
    }
   ],
   "source": [
    "bins_dfs = []\n",
    "for i in range(100):\n",
    "\tbins_dfs.append(new_result_df[(new_result_df['vd_score'] > i / 100) & (new_result_df['vd_score'] < ((i + 1) / 100))])\n",
    "orig_accs = [calculate_orig_category_acc(bin_df) for bin_df in bins_dfs]\n",
    "accs = [calculate_category_acc(bin_df) for bin_df in bins_dfs]"
   ]
  },
  {
   "cell_type": "code",
   "execution_count": 159,
   "metadata": {},
   "outputs": [
    {
     "data": {
      "text/plain": [
       "Text(0.4, 0.2, '0.85')"
      ]
     },
     "execution_count": 159,
     "metadata": {},
     "output_type": "execute_result"
    },
    {
     "data": {
      "image/png": "[encoded data removed]",
      "text/plain": [
       "<Figure size 432x288 with 1 Axes>"
      ]
     },
     "metadata": {},
     "output_type": "display_data"
    }
   ],
   "source": [
    "ax = sns.lineplot(x=np.arange(100) / 100, y=accs)\n",
    "ax.set_xlabel('visual change')\n",
    "ax.set_ylabel('accuracy')\n",
    "ax.set_title(model_name)\n",
    "# ax.set_xlim(100)\n",
    "ax.set_ylim(0, 1)\n",
    "perf_area = performance_area(accs)\n",
    "ax.text(0.4, 0.2, round(perf_area, 2), fontsize=26)\n",
    "# plt.text(20, 50, '$A_m - A_{m-h}$', fontsize=16)"
   ]
  },
  {
   "cell_type": "code",
   "execution_count": 160,
   "metadata": {},
   "outputs": [
    {
     "data": {
      "text/plain": [
       "5154"
      ]
     },
     "execution_count": 160,
     "metadata": {},
     "output_type": "execute_result"
    }
   ],
   "source": [
    "imagenet16cls_idx = set(imagenet_16_class_df['idx'].unique().tolist())\n",
    "# imagenet16cls_idx\n",
    "sum([label in imagenet16cls_idx for label in df['label'].tolist()])"
   ]
  },
  {
   "attachments": {},
   "cell_type": "markdown",
   "metadata": {},
   "source": [
    "Out of the 1000 original imagenet classes, the 16-categories subset only has 207 classes.\n",
    "\n",
    "4/5 of experiment results are discarded"
   ]
  },
  {
   "cell_type": "code",
   "execution_count": 161,
   "metadata": {},
   "outputs": [
    {
     "data": {
      "text/plain": [
       "207"
      ]
     },
     "execution_count": 161,
     "metadata": {},
     "output_type": "execute_result"
    }
   ],
   "source": [
    "len(imagenet16cls_idx)"
   ]
  },
  {
   "attachments": {},
   "cell_type": "markdown",
   "metadata": {},
   "source": [
    "# Analysis on Human Data"
   ]
  },
  {
   "cell_type": "code",
   "execution_count": 162,
   "metadata": {},
   "outputs": [
    {
     "data": {
      "text/html": [
       "<div>\n",
       "<style scoped>\n",
       "    .dataframe tbody tr th:only-of-type {\n",
       "        vertical-align: middle;\n",
       "    }\n",
       "\n",
       "    .dataframe tbody tr th {\n",
       "        vertical-align: top;\n",
       "    }\n",
       "\n",
       "    .dataframe thead th {\n",
       "        text-align: right;\n",
       "    }\n",
       "</style>\n",
       "<table border=\"1\" class=\"dataframe\">\n",
       "  <thead>\n",
       "    <tr style=\"text-align: right;\">\n",
       "      <th></th>\n",
       "      <th>img_name</th>\n",
       "      <th>label</th>\n",
       "      <th>orig_pred</th>\n",
       "      <th>transformed_pred</th>\n",
       "      <th>vd_score</th>\n",
       "    </tr>\n",
       "  </thead>\n",
       "  <tbody>\n",
       "    <tr>\n",
       "      <th>0</th>\n",
       "      <td>https://pilotsixteenclasses.s3.amazonaws.com/g...</td>\n",
       "      <td>truck</td>\n",
       "      <td>truck</td>\n",
       "      <td>car</td>\n",
       "      <td>0.890110</td>\n",
       "    </tr>\n",
       "    <tr>\n",
       "      <th>1</th>\n",
       "      <td>https://pilotsixteenclasses.s3.amazonaws.com/g...</td>\n",
       "      <td>truck</td>\n",
       "      <td>truck</td>\n",
       "      <td>car</td>\n",
       "      <td>0.890110</td>\n",
       "    </tr>\n",
       "    <tr>\n",
       "      <th>2</th>\n",
       "      <td>https://pilotsixteenclasses.s3.amazonaws.com/g...</td>\n",
       "      <td>truck</td>\n",
       "      <td>truck</td>\n",
       "      <td>truck</td>\n",
       "      <td>0.890110</td>\n",
       "    </tr>\n",
       "    <tr>\n",
       "      <th>3</th>\n",
       "      <td>https://pilotsixteenclasses.s3.amazonaws.com/g...</td>\n",
       "      <td>truck</td>\n",
       "      <td>truck</td>\n",
       "      <td>truck</td>\n",
       "      <td>0.890110</td>\n",
       "    </tr>\n",
       "    <tr>\n",
       "      <th>4</th>\n",
       "      <td>https://pilotsixteenclasses.s3.amazonaws.com/g...</td>\n",
       "      <td>truck</td>\n",
       "      <td>truck</td>\n",
       "      <td>car</td>\n",
       "      <td>0.890110</td>\n",
       "    </tr>\n",
       "    <tr>\n",
       "      <th>...</th>\n",
       "      <td>...</td>\n",
       "      <td>...</td>\n",
       "      <td>...</td>\n",
       "      <td>...</td>\n",
       "      <td>...</td>\n",
       "    </tr>\n",
       "    <tr>\n",
       "      <th>2951</th>\n",
       "      <td>https://pilotsixteenclasses.s3.amazonaws.com/g...</td>\n",
       "      <td>bird</td>\n",
       "      <td>bird</td>\n",
       "      <td>bird</td>\n",
       "      <td>0.770824</td>\n",
       "    </tr>\n",
       "    <tr>\n",
       "      <th>2952</th>\n",
       "      <td>https://pilotsixteenclasses.s3.amazonaws.com/g...</td>\n",
       "      <td>bird</td>\n",
       "      <td>bird</td>\n",
       "      <td>bird</td>\n",
       "      <td>0.770824</td>\n",
       "    </tr>\n",
       "    <tr>\n",
       "      <th>2953</th>\n",
       "      <td>https://pilotsixteenclasses.s3.amazonaws.com/g...</td>\n",
       "      <td>bird</td>\n",
       "      <td>bird</td>\n",
       "      <td>bird</td>\n",
       "      <td>0.770824</td>\n",
       "    </tr>\n",
       "    <tr>\n",
       "      <th>2954</th>\n",
       "      <td>https://pilotsixteenclasses.s3.amazonaws.com/g...</td>\n",
       "      <td>bird</td>\n",
       "      <td>bird</td>\n",
       "      <td>bird</td>\n",
       "      <td>0.770824</td>\n",
       "    </tr>\n",
       "    <tr>\n",
       "      <th>2955</th>\n",
       "      <td>https://pilotsixteenclasses.s3.amazonaws.com/g...</td>\n",
       "      <td>bird</td>\n",
       "      <td>bird</td>\n",
       "      <td>dog</td>\n",
       "      <td>0.770824</td>\n",
       "    </tr>\n",
       "  </tbody>\n",
       "</table>\n",
       "<p>2956 rows × 5 columns</p>\n",
       "</div>"
      ],
      "text/plain": [
       "                                               img_name  label orig_pred  \\\n",
       "0     https://pilotsixteenclasses.s3.amazonaws.com/g...  truck     truck   \n",
       "1     https://pilotsixteenclasses.s3.amazonaws.com/g...  truck     truck   \n",
       "2     https://pilotsixteenclasses.s3.amazonaws.com/g...  truck     truck   \n",
       "3     https://pilotsixteenclasses.s3.amazonaws.com/g...  truck     truck   \n",
       "4     https://pilotsixteenclasses.s3.amazonaws.com/g...  truck     truck   \n",
       "...                                                 ...    ...       ...   \n",
       "2951  https://pilotsixteenclasses.s3.amazonaws.com/g...   bird      bird   \n",
       "2952  https://pilotsixteenclasses.s3.amazonaws.com/g...   bird      bird   \n",
       "2953  https://pilotsixteenclasses.s3.amazonaws.com/g...   bird      bird   \n",
       "2954  https://pilotsixteenclasses.s3.amazonaws.com/g...   bird      bird   \n",
       "2955  https://pilotsixteenclasses.s3.amazonaws.com/g...   bird      bird   \n",
       "\n",
       "     transformed_pred  vd_score  \n",
       "0                 car  0.890110  \n",
       "1                 car  0.890110  \n",
       "2               truck  0.890110  \n",
       "3               truck  0.890110  \n",
       "4                 car  0.890110  \n",
       "...               ...       ...  \n",
       "2951             bird  0.770824  \n",
       "2952             bird  0.770824  \n",
       "2953             bird  0.770824  \n",
       "2954             bird  0.770824  \n",
       "2955              dog  0.770824  \n",
       "\n",
       "[2956 rows x 5 columns]"
      ]
     },
     "execution_count": 162,
     "metadata": {},
     "output_type": "execute_result"
    }
   ],
   "source": [
    "human_df = pd.read_csv('../workspace/human_results/exp_results.csv')\n",
    "human_df"
   ]
  },
  {
   "cell_type": "code",
   "execution_count": 163,
   "metadata": {},
   "outputs": [
    {
     "data": {
      "text/plain": [
       "<AxesSubplot:>"
      ]
     },
     "execution_count": 163,
     "metadata": {},
     "output_type": "execute_result"
    },
    {
     "data": {
      "image/png": "[encoded data removed]",
      "text/plain": [
       "<Figure size 432x288 with 1 Axes>"
      ]
     },
     "metadata": {},
     "output_type": "display_data"
    }
   ],
   "source": [
    "human_df['vd_score'].hist()"
   ]
  },
  {
   "cell_type": "code",
   "execution_count": 164,
   "metadata": {},
   "outputs": [
    {
     "data": {
      "text/plain": [
       "<AxesSubplot:>"
      ]
     },
     "execution_count": 164,
     "metadata": {},
     "output_type": "execute_result"
    },
    {
     "data": {
      "image/png": "[encoded data removed]",
      "text/plain": [
       "<Figure size 432x288 with 1 Axes>"
      ]
     },
     "metadata": {},
     "output_type": "display_data"
    }
   ],
   "source": [
    "human_df['vd_score'].hist(bins=100)"
   ]
  },
  {
   "cell_type": "code",
   "execution_count": 165,
   "metadata": {},
   "outputs": [],
   "source": [
    "bins_dfs = []\n",
    "for i in range(20):\n",
    "\tbins_dfs.append(human_df[(human_df['vd_score'] > i / 20) & (human_df['vd_score'] < ((i + 1) / 20))])"
   ]
  },
  {
   "cell_type": "code",
   "execution_count": 166,
   "metadata": {},
   "outputs": [
    {
     "data": {
      "text/plain": [
       "Text(0.4, 0.2, '0.18')"
      ]
     },
     "execution_count": 166,
     "metadata": {},
     "output_type": "execute_result"
    },
    {
     "data": {
      "image/png": "[encoded data removed]",
      "text/plain": [
       "<Figure size 432x288 with 1 Axes>"
      ]
     },
     "metadata": {},
     "output_type": "display_data"
    }
   ],
   "source": [
    "orig_accs = [calculate_orig_acc(bin_df) for bin_df in bins_dfs]\n",
    "accs = [calculate_acc(bin_df) for bin_df in bins_dfs]\n",
    "ax = sns.lineplot(x=np.arange(20) / 20, y=accs)\n",
    "ax.set_xlabel('visual change')\n",
    "ax.set_ylabel('accuracy')\n",
    "ax.set_title(model_name)\n",
    "# ax.set_xlim(20)\n",
    "ax.set_ylim(0, 1)\n",
    "perf_area = performance_area(accs)\n",
    "ax.text(0.4, 0.2, round(perf_area, 2), fontsize=26)\n",
    "# plt.text(20, 50, '$A_m - A_{m-h}$', fontsize=16)"
   ]
  },
  {
   "cell_type": "code",
   "execution_count": 167,
   "metadata": {},
   "outputs": [],
   "source": [
    "# accs\n",
    "# plt.ylim(0, 1)\n",
    "# sns.lineplot(x=np.linspace(0, 1, 20), y=accs)\n",
    "# human_df"
   ]
  },
  {
   "cell_type": "code",
   "execution_count": 168,
   "metadata": {},
   "outputs": [
    {
     "data": {
      "text/plain": [
       "array([0.9       , 0.80645161, 1.        , 0.95      , 0.9       ,\n",
       "       0.91428571, 1.        , 1.        , 1.        , 0.93333333,\n",
       "       0.925     , 0.90265487, 0.94166667, 0.93333333, 0.89761092,\n",
       "       0.81597222, 0.87174349, 0.86132512, 0.78768577, 1.        ])"
      ]
     },
     "execution_count": 168,
     "metadata": {},
     "output_type": "execute_result"
    }
   ],
   "source": [
    "np.array(accs)"
   ]
  },
  {
   "cell_type": "code",
   "execution_count": null,
   "metadata": {},
   "outputs": [],
   "source": []
  },
  {
   "attachments": {},
   "cell_type": "markdown",
   "metadata": {},
   "source": [
    "# Spline and Confidence Interval"
   ]
  },
  {
   "cell_type": "code",
   "execution_count": 169,
   "metadata": {},
   "outputs": [],
   "source": [
    "bins_dfs = []\n",
    "n_bins = 20\n",
    "for i in range(n_bins):\n",
    "\tbins_dfs.append(new_result_df[(new_result_df['vd_score'] > i / n_bins) & (new_result_df['vd_score'] < ((i + 1) / n_bins))])\n",
    "ml_orig_accs = [calculate_orig_category_acc(bin_df) for bin_df in bins_dfs]\n",
    "ml_accs = [calculate_category_acc(bin_df) for bin_df in bins_dfs]"
   ]
  },
  {
   "cell_type": "code",
   "execution_count": 170,
   "metadata": {},
   "outputs": [
    {
     "data": {
      "image/png": "[encoded data removed]",
      "text/plain": [
       "<Figure size 432x288 with 1 Axes>"
      ]
     },
     "metadata": {},
     "output_type": "display_data"
    }
   ],
   "source": [
    "ax = sns.lineplot(x=np.arange(n_bins) / n_bins, y=ml_accs)"
   ]
  },
  {
   "cell_type": "code",
   "execution_count": 171,
   "metadata": {},
   "outputs": [
    {
     "data": {
      "image/png": "[encoded data removed]",
      "text/plain": [
       "<Figure size 432x288 with 1 Axes>"
      ]
     },
     "metadata": {},
     "output_type": "display_data"
    }
   ],
   "source": [
    "plt.ylim(0, 1.1)\n",
    "ml_spl = UnivariateSpline(np.arange(n_bins) / n_bins, ml_accs, s=0.03)\n",
    "x = np.linspace(0, 1, 20)\n",
    "ax = sns.lineplot(x=x, y=ml_spl(x))"
   ]
  },
  {
   "cell_type": "code",
   "execution_count": 172,
   "metadata": {},
   "outputs": [
    {
     "data": {
      "image/png": "[encoded data removed]",
      "text/plain": [
       "<Figure size 432x288 with 1 Axes>"
      ]
     },
     "metadata": {},
     "output_type": "display_data"
    }
   ],
   "source": [
    "bins_dfs = []\n",
    "for i in range(n_bins):\n",
    "\tbins_dfs.append(human_df[(human_df['vd_score'] > i / n_bins) & (human_df['vd_score'] < ((i + 1) / n_bins))])\n",
    "human_orig_accs = [calculate_orig_acc(bin_df) for bin_df in bins_dfs]\n",
    "human_accs = [calculate_acc(bin_df) for bin_df in bins_dfs]\n",
    "plt.ylim(0, 1.1)\n",
    "human_spl = UnivariateSpline(np.arange(n_bins) / n_bins, human_accs, s=0.02)\n",
    "x = np.linspace(0, 1, 20)\n",
    "ax = sns.lineplot(x=x, y=human_spl(x))"
   ]
  },
  {
   "cell_type": "code",
   "execution_count": 173,
   "metadata": {},
   "outputs": [
    {
     "data": {
      "image/png": "[encoded data removed]",
      "text/plain": [
       "<Figure size 432x288 with 1 Axes>"
      ]
     },
     "metadata": {},
     "output_type": "display_data"
    }
   ],
   "source": [
    "# def spline(x: List[float], y: List[float], smoothing_factor: float=None):\n",
    "#     spl = UnivariateSpline(x, y)\n",
    "#     if smoothing_factor is not None:\n",
    "#         spl.set_smoothing_factor(smoothing_factor)\n",
    "#     xs = np.linspace(-3, 3, 1000)\n",
    "#     return spl\n",
    "\n",
    "# ml_y = [0.95, 0.95, 0.90, 0.70, 0.30, 0.10]\n",
    "# ml_x = [0.0, 0.20, 0.40, 0.60, 0.80, 1.00]\n",
    "# human_y = [0.80, 0.80, 0.80, 0.75, 0.60, 0.50]\n",
    "# human_x = [0.0, 0.20, 0.40, 0.60, 0.80, 1.00]\n",
    "# ml_spl = spline(ml_x, ml_y)\n",
    "# human_spl = spline(human_x, human_y)\n",
    "x = np.linspace(0, 100, 10000) / 100\n",
    "fig = plt.figure()\n",
    "# fig.tight_layout() \n",
    "# ax = plt.subplot()\n",
    "plt.ylim(0, 1.05)\n",
    "ml_pred = ml_spl(x)\n",
    "human_pred = human_spl(x)\n",
    "plt.plot(x, ml_pred, label='ml')\n",
    "plt.plot(x, human_pred, label='human')\n",
    "plt.title('Performance Difference')\n",
    "plt.legend()\n",
    "plt.fill_between(x, ml_pred, human_pred, where=(human_pred > ml_pred), interpolate=True, alpha=0.5, color=\"orange\")\n",
    "plt.fill_between(x, ml_pred, human_pred, where=(human_pred < ml_pred), interpolate=True, alpha=0.5, color=\"deepskyblue\")\n",
    "\n",
    "min_curve = np.minimum(ml_pred, human_pred)\n",
    "plt.fill_between(x, min_curve, 0, where=(min_curve > 0), interpolate=True, alpha=0.5, color=\"green\")\n",
    "\n",
    "\n",
    "# plt.text(0.05, 0.85, '$A_{m-h}$', fontsize=22)\n",
    "# plt.text(0.80, 0.70, '$A_{h-m}$', fontsize=16)\n",
    "plt.text(0.20, 0.30, '$A_h - A_{h-m}$', fontsize=16)\n",
    "plt.text(0.20, 0.40, '      or', fontsize=16)\n",
    "plt.text(0.20, 0.50, '$A_m - A_{m-h}$', fontsize=16)\n",
    "plt.ylabel('Accuracy')\n",
    "plt.xlabel('$\\Delta$ Visual')\n",
    "plt.savefig('x.png')"
   ]
  },
  {
   "cell_type": "code",
   "execution_count": null,
   "metadata": {},
   "outputs": [],
   "source": []
  },
  {
   "cell_type": "code",
   "execution_count": null,
   "metadata": {},
   "outputs": [],
   "source": []
  },
  {
   "cell_type": "code",
   "execution_count": null,
   "metadata": {},
   "outputs": [],
   "source": []
  },
  {
   "cell_type": "code",
   "execution_count": 174,
   "metadata": {},
   "outputs": [],
   "source": [
    "x = np.linspace(0, 1, 50)\n",
    "y = np.sin(4 * np.pi * x) + np.random.normal(scale=0.1, size=x.shape)\n",
    "spline = UnivariateSpline(x, y, s=0)"
   ]
  },
  {
   "cell_type": "code",
   "execution_count": 175,
   "metadata": {},
   "outputs": [
    {
     "name": "stdout",
     "output_type": "stream",
     "text": [
      "[[38 24 28 ... 48 15 12]\n",
      " [19 39  9 ... 31 10 29]\n",
      " [37 35  0 ... 21 47 31]\n",
      " ...\n",
      " [20 32 12 ... 34 31  4]\n",
      " [10 46 19 ...  6 19 28]\n",
      " [13 28 30 ... 16 30 39]]\n"
     ]
    }
   ],
   "source": [
    "import numpy as np\n",
    "import matplotlib.pyplot as plt\n",
    "from scipy.interpolate import UnivariateSpline\n",
    "\n",
    "# Generate some example data\n",
    "x = np.linspace(0, 1, 50)\n",
    "y = np.sin(4 * np.pi * x) + np.random.normal(scale=0.1, size=x.shape)\n",
    "\n",
    "# Fit a spline to the data\n",
    "spline = UnivariateSpline(x, y, s=0)\n",
    "\n",
    "# Define a function to generate bootstrap samples\n",
    "def bootstrap_samples(x, y, n):\n",
    "    indices = np.random.randint(low=0, high=len(x), size=(n, len(x)))\n",
    "    print(indices)\n",
    "    x_samples = x[indices]\n",
    "    y_samples = y[indices]\n",
    "    return x_samples, y_samples\n",
    "\n",
    "# Generate bootstrap samples\n",
    "n_samples = 1000\n",
    "x_samples, y_samples = bootstrap_samples(x, y, n_samples)\n",
    "\n"
   ]
  },
  {
   "cell_type": "code",
   "execution_count": 176,
   "metadata": {},
   "outputs": [
    {
     "data": {
      "text/plain": [
       "array([[0.04081633, 1.        , 0.34693878, ..., 0.24489796, 0.16326531,\n",
       "        0.79591837],\n",
       "       [0.3877551 , 0.48979592, 0.        , ..., 0.97959184, 0.12244898,\n",
       "        0.2244898 ],\n",
       "       [0.02040816, 0.57142857, 0.55102041, ..., 0.71428571, 0.75510204,\n",
       "        0.18367347],\n",
       "       ...,\n",
       "       [0.69387755, 0.42857143, 0.65306122, ..., 0.53061224, 0.83673469,\n",
       "        0.59183673],\n",
       "       [0.46938776, 0.18367347, 0.95918367, ..., 0.        , 0.24489796,\n",
       "        0.75510204],\n",
       "       [0.59183673, 0.44897959, 0.53061224, ..., 0.30612245, 0.04081633,\n",
       "        0.95918367]])"
      ]
     },
     "execution_count": 176,
     "metadata": {},
     "output_type": "execute_result"
    }
   ],
   "source": [
    "indices = np.random.randint(low=0, high=len(x), size=(1000, len(x)))\n",
    "x_samples = x[indices]\n",
    "# x[x_samples]\n",
    "x_samples"
   ]
  },
  {
   "cell_type": "code",
   "execution_count": 177,
   "metadata": {},
   "outputs": [
    {
     "ename": "ValueError",
     "evalue": "x must be strictly increasing if s = 0",
     "output_type": "error",
     "traceback": [
      "\u001b[0;31m---------------------------------------------------------------------------\u001b[0m",
      "\u001b[0;31mValueError\u001b[0m                                Traceback (most recent call last)",
      "\u001b[0;32m<ipython-input-177-25fd8a62adba>\u001b[0m in \u001b[0;36m<module>\u001b[0;34m\u001b[0m\n\u001b[1;32m      1\u001b[0m \u001b[0;31m# Fit splines to the bootstrap samples\u001b[0m\u001b[0;34m\u001b[0m\u001b[0;34m\u001b[0m\u001b[0;34m\u001b[0m\u001b[0m\n\u001b[0;32m----> 2\u001b[0;31m \u001b[0msplines\u001b[0m \u001b[0;34m=\u001b[0m \u001b[0;34m[\u001b[0m\u001b[0mUnivariateSpline\u001b[0m\u001b[0;34m(\u001b[0m\u001b[0mx_sample\u001b[0m\u001b[0;34m,\u001b[0m \u001b[0my_sample\u001b[0m\u001b[0;34m,\u001b[0m \u001b[0ms\u001b[0m\u001b[0;34m=\u001b[0m\u001b[0;36m0\u001b[0m\u001b[0;34m)\u001b[0m \u001b[0;32mfor\u001b[0m \u001b[0mx_sample\u001b[0m\u001b[0;34m,\u001b[0m \u001b[0my_sample\u001b[0m \u001b[0;32min\u001b[0m \u001b[0mzip\u001b[0m\u001b[0;34m(\u001b[0m\u001b[0mx_samples\u001b[0m\u001b[0;34m,\u001b[0m \u001b[0my_samples\u001b[0m\u001b[0;34m)\u001b[0m\u001b[0;34m]\u001b[0m\u001b[0;34m\u001b[0m\u001b[0;34m\u001b[0m\u001b[0m\n\u001b[0m\u001b[1;32m      3\u001b[0m \u001b[0;34m\u001b[0m\u001b[0m\n\u001b[1;32m      4\u001b[0m \u001b[0;31m# Calculate confidence intervals\u001b[0m\u001b[0;34m\u001b[0m\u001b[0;34m\u001b[0m\u001b[0;34m\u001b[0m\u001b[0m\n\u001b[1;32m      5\u001b[0m \u001b[0my_vals\u001b[0m \u001b[0;34m=\u001b[0m \u001b[0mnp\u001b[0m\u001b[0;34m.\u001b[0m\u001b[0marray\u001b[0m\u001b[0;34m(\u001b[0m\u001b[0;34m[\u001b[0m\u001b[0ms\u001b[0m\u001b[0;34m(\u001b[0m\u001b[0mx\u001b[0m\u001b[0;34m)\u001b[0m \u001b[0;32mfor\u001b[0m \u001b[0ms\u001b[0m \u001b[0;32min\u001b[0m \u001b[0msplines\u001b[0m\u001b[0;34m]\u001b[0m\u001b[0;34m)\u001b[0m\u001b[0;34m\u001b[0m\u001b[0;34m\u001b[0m\u001b[0m\n",
      "\u001b[0;32m<ipython-input-177-25fd8a62adba>\u001b[0m in \u001b[0;36m<listcomp>\u001b[0;34m(.0)\u001b[0m\n\u001b[1;32m      1\u001b[0m \u001b[0;31m# Fit splines to the bootstrap samples\u001b[0m\u001b[0;34m\u001b[0m\u001b[0;34m\u001b[0m\u001b[0;34m\u001b[0m\u001b[0m\n\u001b[0;32m----> 2\u001b[0;31m \u001b[0msplines\u001b[0m \u001b[0;34m=\u001b[0m \u001b[0;34m[\u001b[0m\u001b[0mUnivariateSpline\u001b[0m\u001b[0;34m(\u001b[0m\u001b[0mx_sample\u001b[0m\u001b[0;34m,\u001b[0m \u001b[0my_sample\u001b[0m\u001b[0;34m,\u001b[0m \u001b[0ms\u001b[0m\u001b[0;34m=\u001b[0m\u001b[0;36m0\u001b[0m\u001b[0;34m)\u001b[0m \u001b[0;32mfor\u001b[0m \u001b[0mx_sample\u001b[0m\u001b[0;34m,\u001b[0m \u001b[0my_sample\u001b[0m \u001b[0;32min\u001b[0m \u001b[0mzip\u001b[0m\u001b[0;34m(\u001b[0m\u001b[0mx_samples\u001b[0m\u001b[0;34m,\u001b[0m \u001b[0my_samples\u001b[0m\u001b[0;34m)\u001b[0m\u001b[0;34m]\u001b[0m\u001b[0;34m\u001b[0m\u001b[0;34m\u001b[0m\u001b[0m\n\u001b[0m\u001b[1;32m      3\u001b[0m \u001b[0;34m\u001b[0m\u001b[0m\n\u001b[1;32m      4\u001b[0m \u001b[0;31m# Calculate confidence intervals\u001b[0m\u001b[0;34m\u001b[0m\u001b[0;34m\u001b[0m\u001b[0;34m\u001b[0m\u001b[0m\n\u001b[1;32m      5\u001b[0m \u001b[0my_vals\u001b[0m \u001b[0;34m=\u001b[0m \u001b[0mnp\u001b[0m\u001b[0;34m.\u001b[0m\u001b[0marray\u001b[0m\u001b[0;34m(\u001b[0m\u001b[0;34m[\u001b[0m\u001b[0ms\u001b[0m\u001b[0;34m(\u001b[0m\u001b[0mx\u001b[0m\u001b[0;34m)\u001b[0m \u001b[0;32mfor\u001b[0m \u001b[0ms\u001b[0m \u001b[0;32min\u001b[0m \u001b[0msplines\u001b[0m\u001b[0;34m]\u001b[0m\u001b[0;34m)\u001b[0m\u001b[0;34m\u001b[0m\u001b[0;34m\u001b[0m\u001b[0m\n",
      "\u001b[0;32m~/anaconda3/envs/reliabilitycli/lib/python3.7/site-packages/scipy/interpolate/fitpack2.py\u001b[0m in \u001b[0;36m__init__\u001b[0;34m(self, x, y, w, bbox, k, s, ext, check_finite)\u001b[0m\n\u001b[1;32m    198\u001b[0m \u001b[0;34m\u001b[0m\u001b[0m\n\u001b[1;32m    199\u001b[0m         x, y, w, bbox, self.ext = self.validate_input(x, y, w, bbox, k, s, ext,\n\u001b[0;32m--> 200\u001b[0;31m                                                       check_finite)\n\u001b[0m\u001b[1;32m    201\u001b[0m \u001b[0;34m\u001b[0m\u001b[0m\n\u001b[1;32m    202\u001b[0m         \u001b[0;31m# _data == x,y,w,xb,xe,k,s,n,t,c,fp,fpint,nrdata,ier\u001b[0m\u001b[0;34m\u001b[0m\u001b[0;34m\u001b[0m\u001b[0;34m\u001b[0m\u001b[0m\n",
      "\u001b[0;32m~/anaconda3/envs/reliabilitycli/lib/python3.7/site-packages/scipy/interpolate/fitpack2.py\u001b[0m in \u001b[0;36mvalidate_input\u001b[0;34m(x, y, w, bbox, k, s, ext, check_finite)\u001b[0m\n\u001b[1;32m    225\u001b[0m         \u001b[0;32melse\u001b[0m\u001b[0;34m:\u001b[0m\u001b[0;34m\u001b[0m\u001b[0;34m\u001b[0m\u001b[0m\n\u001b[1;32m    226\u001b[0m             \u001b[0;32mif\u001b[0m \u001b[0;32mnot\u001b[0m \u001b[0mnp\u001b[0m\u001b[0;34m.\u001b[0m\u001b[0mall\u001b[0m\u001b[0;34m(\u001b[0m\u001b[0mdiff\u001b[0m\u001b[0;34m(\u001b[0m\u001b[0mx\u001b[0m\u001b[0;34m)\u001b[0m \u001b[0;34m>\u001b[0m \u001b[0;36m0.0\u001b[0m\u001b[0;34m)\u001b[0m\u001b[0;34m:\u001b[0m\u001b[0;34m\u001b[0m\u001b[0;34m\u001b[0m\u001b[0m\n\u001b[0;32m--> 227\u001b[0;31m                 \u001b[0;32mraise\u001b[0m \u001b[0mValueError\u001b[0m\u001b[0;34m(\u001b[0m\u001b[0;34m\"x must be strictly increasing if s = 0\"\u001b[0m\u001b[0;34m)\u001b[0m\u001b[0;34m\u001b[0m\u001b[0;34m\u001b[0m\u001b[0m\n\u001b[0m\u001b[1;32m    228\u001b[0m         \u001b[0;32mif\u001b[0m \u001b[0mx\u001b[0m\u001b[0;34m.\u001b[0m\u001b[0msize\u001b[0m \u001b[0;34m!=\u001b[0m \u001b[0my\u001b[0m\u001b[0;34m.\u001b[0m\u001b[0msize\u001b[0m\u001b[0;34m:\u001b[0m\u001b[0;34m\u001b[0m\u001b[0;34m\u001b[0m\u001b[0m\n\u001b[1;32m    229\u001b[0m             \u001b[0;32mraise\u001b[0m \u001b[0mValueError\u001b[0m\u001b[0;34m(\u001b[0m\u001b[0;34m\"x and y should have a same length\"\u001b[0m\u001b[0;34m)\u001b[0m\u001b[0;34m\u001b[0m\u001b[0;34m\u001b[0m\u001b[0m\n",
      "\u001b[0;31mValueError\u001b[0m: x must be strictly increasing if s = 0"
     ]
    }
   ],
   "source": [
    "\n",
    "# Fit splines to the bootstrap samples\n",
    "splines = [UnivariateSpline(x_sample, y_sample, s=0) for x_sample, y_sample in zip(x_samples, y_samples)]\n",
    "\n",
    "# Calculate confidence intervals\n",
    "y_vals = np.array([s(x) for s in splines])\n",
    "lower_bounds = np.percentile(y_vals, 2.5, axis=0)\n",
    "upper_bounds = np.percentile(y_vals, 97.5, axis=0)\n",
    "\n",
    "# Plot the data and the fitted spline with confidence intervals\n",
    "fig, ax = plt.subplots()\n",
    "ax.plot(x, y, 'o', label='data')\n",
    "ax.plot(x, spline(x), label='spline fit')\n",
    "ax.fill_between(x, lower_bounds, upper_bounds, alpha=0.5, label='95% confidence interval')\n",
    "ax.legend()\n",
    "plt.show()"
   ]
  },
  {
   "cell_type": "code",
   "execution_count": null,
   "metadata": {},
   "outputs": [],
   "source": []
  }
 ],
 "metadata": {
  "kernelspec": {
   "display_name": "reliabilitycli",
   "language": "python",
   "name": "python3"
  },
  "language_info": {
   "codemirror_mode": {
    "name": "ipython",
    "version": 3
   },
   "file_extension": ".py",
   "mimetype": "text/x-python",
   "name": "python",
   "nbconvert_exporter": "python",
   "pygments_lexer": "ipython3",
   "version": "3.7.16"
  },
  "orig_nbformat": 4,
  "vscode": {
   "interpreter": {
    "hash": "02a0c43521b46ff17bb2c792573fdca1766fa6306f93e9260a08130d5183ff95"
   }
  }
 },
 "nbformat": 4,
 "nbformat_minor": 2
}
